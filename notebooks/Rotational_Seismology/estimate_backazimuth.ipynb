{
 "cells": [
  {
   "cell_type": "markdown",
   "metadata": {},
   "source": [
    "<div style=\"background-image:url('../share/images/header.svg'); padding: 0px; background-size:cover; background-opacity:50%; border-radius:5px; height: 250px\">\n",
    "    <div style=\"float:right; margin: 50px; padding: 20px; background:rgba(255,255,255,0.7); width: 50%; height: 150px\">\n",
    "        <div style=\"position:relative; top:50%; transform: translateY(-50%)\">\n",
    "            <div style=\"font-size: xx-large; font-weight:900; color:rgba(0,0,0,0.8); line-height:100%\">Rotational Seismology</div>\n",
    "            <div style=\"font-size: large; padding-top: 20px; color:rgba(0,0,0,0.5)\">Estimate Event Backazimuth</div>\n",
    "        </div>\n",
    "    </div>\n",
    "</div>"
   ]
  },
  {
   "cell_type": "markdown",
   "metadata": {},
   "source": [
    "![](images/obspy_logo_full_524x179px.png)"
   ]
  },
  {
   "cell_type": "markdown",
   "metadata": {},
   "source": [
    "Seismo-Live: http://seismo-live.org\n",
    "\n",
    "##### Authors:\n",
    "* Johannes Salvermoser ([@salve-](https://github.com/salve-))\n",
    "\n",
    "---"
   ]
  },
  {
   "cell_type": "code",
   "execution_count": 1,
   "metadata": {},
   "outputs": [],
   "source": [
    "%matplotlib inline\n",
    "import matplotlib.pyplot as plt\n",
    "plt.style.use('ggplot')\n",
    "plt.rcParams['figure.figsize'] = 15, 8"
   ]
  },
  {
   "cell_type": "markdown",
   "metadata": {},
   "source": [
    "### 1 Load pre-processed waveforms and event-xml\n",
    "\n",
    "Waveforms of transverse acceleration and vertical rotation rate are loaded from the repository. <br>\n",
    "They were pre-processed as described in the **Data Download + Pre-processing**-Tutorial. <br>\n",
    "That means they are:\n",
    "<ul> <li>instrument corrected</li>\n",
    "<li>resampled (decimation factor: 4)</li>\n",
    "<li>filtered (lowpass: $f_{cutoff}$ = 2 Hz)</li>\n",
    "</ul><br>\n",
    "We also need the locations of station and event epicenter to obtain the theoretical backazimuth."
   ]
  },
  {
   "cell_type": "code",
   "execution_count": 2,
   "metadata": {},
   "outputs": [
    {
     "name": "stdout",
     "output_type": "stream",
     "text": [
      "1 Event(s) in Catalog:\n",
      "2011-10-23T10:41:27.500000Z | +38.640,  +43.400 | 7.1 MW\n",
      "Flinn-Engdahl region :  TURKEY\n"
     ]
    }
   ],
   "source": [
    "from obspy import read, read_events\n",
    "from obspy.geodetics.base import gps2dist_azimuth\n",
    "import numpy as np\n",
    "\n",
    "AC = read('data/acc_Turkey_preproc.mseed')\n",
    "RLAS = read('data/rot_Turkey_preproc.mseed')\n",
    "cat = read_events('data/xml_Turkey.xml')\n",
    "event = cat[0]\n",
    "\n",
    "# event location from event info\n",
    "source_latitude = event.origins[0].latitude\n",
    "source_longitude = event.origins[0].longitude\n",
    "\n",
    "# station location (Wettzell)\n",
    "station_latitude = 49.144001\n",
    "station_longitude = 12.8782\n",
    "\n",
    "print(cat)\n",
    "print(event.event_descriptions[0]['type'], ': ',event.event_descriptions[0]['text'])"
   ]
  },
  {
   "cell_type": "markdown",
   "metadata": {},
   "source": [
    "** Obtain the theoretical backazimuth via gps2distazimuth**"
   ]
  },
  {
   "cell_type": "code",
   "execution_count": 3,
   "metadata": {},
   "outputs": [
    {
     "name": "stdout",
     "output_type": "stream",
     "text": [
      "Epicentral distance [m]:  2691458.3\n",
      "Theoretical azimuth [deg]:  305.6\n",
      "Theoretical backazimuth [deg]:  104.1\n"
     ]
    }
   ],
   "source": [
    "# theoretical backazimuth and distance\n",
    "baz = gps2dist_azimuth(source_latitude, source_longitude, station_latitude, station_longitude)\n",
    "\n",
    "print('Epicentral distance [m]: ',np.round(baz[0],1))\n",
    "print('Theoretical azimuth [deg]: ', np.round(baz[1],1))\n",
    "print('Theoretical backazimuth [deg]: ', np.round(baz[2],1))"
   ]
  },
  {
   "cell_type": "markdown",
   "metadata": {},
   "source": [
    "### 2 Estimate correlation coefficients and backazimuth for each time window\n",
    "The estimation of the backazimuth (BAz = source direction angle) is based on *Igel et al.(2007)* and illustrated <br>\n",
    "as a simple example here:<br>\n",
    "\n",
    "We define the length of the time windows, we want to use and calculate the number of time windows for <br>\n",
    "our downloaded and pre-processed waveform data. <br>\n",
    "\n",
    "For each time-window, we rotate the horizontal acceleration components through all possible <br>\n",
    "source directions (BAz, 0-360°) in **10°-steps**. In each of the steps, we check the similarity (phase-match) between <br>\n",
    "vertical rotation rate and the rotated acceleration by cross-correlation (X-corr).<br>\n",
    "\n",
    "The rotation angle/ BAz-value yielding the highest correlation coefficient for the specific time window rotates the <br> horizontal acceleration components to radial/ transverse (= into the angular direction of the strongest signal source).<br>\n",
    "That's exactly what *McLeod et al. (1998) and Pancha et al. (2000)* showed for Love waves:<br>\n",
    "\n",
    "**Vertical rotation rate and transverse acceleration are in phase!**"
   ]
  },
  {
   "cell_type": "code",
   "execution_count": 4,
   "metadata": {},
   "outputs": [
    {
     "name": "stderr",
     "output_type": "stream",
     "text": [
      "/Users/lion/miniconda3/envs/seismo_live/lib/python3.7/site-packages/ipykernel_launcher.py:10: DeprecationWarning: object of type <class 'float'> cannot be safely interpreted as an integer.\n",
      "  # Remove the CWD from sys.path while we load stuff.\n",
      "/Users/lion/miniconda3/envs/seismo_live/lib/python3.7/site-packages/obspy/signal/cross_correlation.py:220: ObsPyDeprecationWarning: Call to deprecated function xcorr(). Please use the correlate and xcorr_max functions.\n",
      "  warnings.warn(msg, ObsPyDeprecationWarning)\n"
     ]
    }
   ],
   "source": [
    "from obspy.signal.cross_correlation import xcorr\n",
    "from obspy.signal.rotate import rotate_ne_rt\n",
    "\n",
    "sampling_rate = int(RLAS[0].stats.sampling_rate)\n",
    "sec = 60  # window length for correlation\n",
    "num_windows = len(RLAS[0]) // (int(sampling_rate * sec))\n",
    "\n",
    "# estimate the Backazimuth for each time window\n",
    "step = 10\n",
    "backas = np.linspace(0, 360 - step, 360 / step)\n",
    "corrbaz = []\n",
    "ind=None\n",
    "for i_deg in range(0, len(backas)):\n",
    "    for i_win in range(0, num_windows):\n",
    "        corrbazz = xcorr(RLAS[0][sampling_rate * sec * i_win : sampling_rate * sec * (i_win + 1)],\n",
    "                             rotate_ne_rt(AC.select(component='N')[0].data,\n",
    "                                          AC.select(component='E')[0].data, backas[i_deg])\n",
    "                             [1][sampling_rate * sec * i_win : sampling_rate * sec * (i_win + 1)],0)\n",
    "        corrbaz.append(corrbazz[1])\n",
    "corrbaz = np.asarray(corrbaz)\n",
    "corrbaz = corrbaz.reshape(len(backas), num_windows)\n",
    "\n",
    "maxcorr = []\n",
    "for l1 in range(0, num_windows):\n",
    "    maxcor_r = backas[corrbaz[:, l1].argmax()]\n",
    "    maxcorr.append(maxcor_r)\n",
    "maxcorr = np.asarray(maxcorr)\n",
    "X, Y = np.meshgrid(np.arange(0, sec * num_windows, sec), backas)"
   ]
  },
  {
   "cell_type": "markdown",
   "metadata": {},
   "source": [
    "<br>\n",
    "Get theoretical **P-** and **S-Wave first arrivals** from a 1D velocity model using **TauPy**:"
   ]
  },
  {
   "cell_type": "code",
   "execution_count": 5,
   "metadata": {},
   "outputs": [
    {
     "name": "stderr",
     "output_type": "stream",
     "text": [
      "/Users/lion/miniconda3/envs/seismo_live/lib/python3.7/site-packages/obspy/taup/tau_branch.py:496: UserWarning: Resizing a TauP array inplace failed due to the existence of other references to the array, creating a new array. See Obspy #2280.\n",
      "  warnings.warn(msg)\n"
     ]
    }
   ],
   "source": [
    "from obspy.taup import TauPyModel\n",
    "\n",
    "TauPy_model = TauPyModel('ak135')\n",
    "arrivals_p = TauPy_model.get_travel_times(distance_in_degree=0.001 * baz[0] / 111.11,\n",
    "                                        source_depth_in_km=event.origins[0].depth*0.001,\n",
    "                                       phase_list=[\"P\",\"p\",\"Pdiff\",\"PP\",\"PKiKP\",\"PKIKP\",\"Pn\",\"Pg\"])\n",
    "arrivals_s = TauPy_model.get_travel_times(distance_in_degree=0.001 * baz[0] / 111.11,\n",
    "                                        source_depth_in_km=event.origins[0].depth*0.001,\n",
    "                                       phase_list=[\"S\",\"s\",\"Sdiff\",\"SS\",\"SKiKS\",\"SKIKS\",\"Sn\",\"Sg\"])\n",
    "tiemp = []\n",
    "tiems = []\n",
    "for i in range(0,len(arrivals_p)): tiemp.append(arrivals_p[i].time)\n",
    "for ii in range(0,len(arrivals_s)): tiems.append(arrivals_s[ii].time)\n",
    "\n",
    "# first arrivals\n",
    "arriv_p = min(tiemp)\n",
    "arriv_s = min(tiems)"
   ]
  },
  {
   "cell_type": "markdown",
   "metadata": {},
   "source": [
    "<br>\n",
    "### 3 Plot backazimuth estimation\n",
    "\n",
    "**Top:** <br>\n",
    "Vertical rotation rate\n",
    "\n",
    "**Middle:** <br>\n",
    "Transverse acceleration (rotated from N-E component acceleration, see above)\n",
    "\n",
    "**Bottom: Backazimuth estimation**\n",
    "<ul>\n",
    "<li>Green displays anti-correlation, red shows positive correlation/ phase match.<br>\n",
    "<li>Yellow indicates no correlation.<br>\n",
    "<li>Black dots highlight the BAz values for the maximum correlation coefficient in that time window.<br>\n",
    "<li>The theoretical backazimuth is plotted for comparison.\n",
    "</ul>"
   ]
  },
  {
   "cell_type": "code",
   "execution_count": 6,
   "metadata": {},
   "outputs": [
    {
     "data": {
      "image/png": "[encoded data removed]",
      "text/plain": [
       "<Figure size 432x288 with 4 Axes>"
      ]
     },
     "metadata": {
      "needs_background": "light"
     },
     "output_type": "display_data"
    }
   ],
   "source": [
    "import matplotlib as mpl\n",
    "\n",
    "time = np.linspace(0, len(AC[0].data)/sampling_rate,len(AC[0].data)) ## Time-array\n",
    "# vertical rotation rate\n",
    "plt.subplot2grid((3, 30), (0, 0), colspan=29)\n",
    "plt.plot(time, RLAS[0].data,label='vertical rotation rate')\n",
    "plt.xlim(0, time[-1])\n",
    "plt.ylabel('vert. rot. rate \\n[nrad/s]')\n",
    "plt.legend()\n",
    "\n",
    "# add P- and S-wave arrivals\n",
    "plt.axvline(arriv_p);plt.annotate('P-arrival', xy=(arriv_p+20,np.max(RLAS[0].data)),xycoords='data');\n",
    "plt.axvline(arriv_s);plt.annotate('S-arrival', xy=(arriv_s+20,np.max(RLAS[0].data)),xycoords='data');\n",
    "\n",
    "# transverse acceleration\n",
    "plt.subplot2grid((3, 30), (1, 0), colspan=29)\n",
    "plt.plot(time, AC[0].data, 'k',label='transverse acceleration')\n",
    "plt.xlim(0, time[-1])\n",
    "plt.ylabel('transv. acc. \\n[$nm/s^2$]')\n",
    "plt.ticklabel_format(axis='y', style='sci', scilimits=(-2,2))\n",
    "plt.legend()\n",
    "plt.axvline(arriv_p)\n",
    "plt.axvline(arriv_s)\n",
    "\n",
    "# backazimuth estimation plot\n",
    "plt.subplot2grid((3, 30), (2, 0), colspan=29)\n",
    "im = plt.pcolor(X, Y, corrbaz, cmap=plt.cm.RdYlGn_r, vmin=-1,vmax=1)\n",
    "plt.plot(np.arange(sec/2., sec * num_windows, sec), maxcorr, '.k')\n",
    "plt.xlim(0, time[-1])\n",
    "plt.ylim(0, 360)\n",
    "plt.ylabel(u'estimated \\nbackazimuth [°]')\n",
    "plt.xlabel('time [s]')\n",
    "\n",
    "# plot theoretical Backazimuth for comparison\n",
    "xx = np.arange(0, sec * num_windows + 1, sec)\n",
    "tba = np.ones(len(xx)) * baz[2]\n",
    "plt.plot(xx, tba, c='.5', lw=1.5)\n",
    "plt.text(2600, 106, u'Theor. BAz = '+str(round(baz[2],2))+'°', color='k',fontsize=12,backgroundcolor='.9')\n",
    "\n",
    "\n",
    "# add colorbar\n",
    "fig = plt.subplot2grid((3, 30), (2, 29))\n",
    "norm = mpl.colors.Normalize(vmin=-1, vmax=1)\n",
    "cb1 = mpl.colorbar.ColorbarBase(fig, cmap=plt.cm.RdYlGn_r, norm=norm, orientation='vertical')\n"
   ]
  },
  {
   "cell_type": "markdown",
   "metadata": {},
   "source": [
    "### References\n",
    "<ul>\n",
    "    Beyreuther, M., R. Barsch, L. Krischer, T. Megies, Y. Behr and J. Wassermann (2010)<br>\n",
    "    <a href=http://www.seismosoc.org/Publications/SRL/SRL_81/srl_81-3_es/>ObsPy: A Python Toolbox for Seismology</a> <br>\n",
    "    SRL, 81(3), 530-533, doi:10.1785/gssrl.81.3.530<br>\n",
    "    <br>\n",
    "    Igel, H., A. Cochard, J. Wassermann, A. Flaws, U. Schreiber, A. Velicoseltsev and N. Pham Dinh (2007)<br>\n",
    "    <a href= http://gji.oxfordjournals.org/content/168/1/182.long>\n",
    "    Broad-band observations of earthquake-induced rotational ground motions,</a> <br>\n",
    "    GJI, 168(1):182-196, doi: 10.1111/j.1365-246X.2006.03146.x<br>\n",
    "    <br>\n",
    "    Krischer, L., T. Megies, R. Barsch, M. Beyreuther, T. Lecocq, C. Caudron, J. Wassermann (2015)<br>\n",
    "    <a href=http://iopscience.iop.org/article/10.1088/1749-4699/8/1/014003/meta;jsessionid=429E7836F3590551E4FF9EE94853C476.c5.iopscience.cld.iop.org>\n",
    "    ObsPy: a bridge for seismology into the scientific Python ecosystem</a><br>\n",
    "    Computational Science & Discovery, 8(1), 014003, doi:10.1088/1749-4699/8/1/014003<br>\n",
    "    <br>\n",
    "    McLeod, D., G. Stedman, T. Webb and U. Schreiber (1998)<br>\n",
    "    <a href= http://www.bssaonline.org/content/88/6/1495.short>\n",
    "    Comparison of standard and ring laser rotational seismograms,</a> <br>\n",
    "    Bulletin of the Seismological Society of America, 88(6):1495-1503<br>\n",
    "\n",
    "    Megies, T., M. Beyreuther, R. Barsch, L. Krischer, J. Wassermann (2011)<br>\n",
    "    <a href=http://www.annalsofgeophysics.eu/index.php/annals/article/view/4838>\n",
    "    ObsPy – What can it do for data centers and observatories?</a> <br>\n",
    "    Annals Of Geophysics, 54(1), 47-58, doi:10.4401/ag-4838<br>\n",
    "    <br>\n",
    "    Pancha, A., T. Webb, G. Stedman, D. McLeod and U. Schreiber (2000)<br>\n",
    "    <a href= https://www.researchgate.net/profile/K_Schreiber/publication/228952331_Ring_laser_detection_of_rotations_from_teleseismic_waves/links/0fcfd50e570ffb5944000000.pdf>\n",
    "    Ring laser detection of rotations from teleseismic waves,</a> <br>\n",
    "    Geophysical Research Letters, 27(21):3553-3556<br>\n",
    "</ul>"
   ]
  }
 ],
 "metadata": {
  "jupytext": {
   "encoding": "# -*- coding: utf-8 -*-"
  },
  "kernelspec": {
   "display_name": "Python 3",
   "language": "python",
   "name": "python3"
  },
  "language_info": {
   "codemirror_mode": {
    "name": "ipython",
    "version": 3
   },
   "file_extension": ".py",
   "mimetype": "text/x-python",
   "name": "python",
   "nbconvert_exporter": "python",
   "pygments_lexer": "ipython3",
   "version": "3.7.3"
  }
 },
 "nbformat": 4,
 "nbformat_minor": 2
}
