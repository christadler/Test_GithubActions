{
 "cells": [
  {
   "cell_type": "markdown",
   "metadata": {},
   "source": [
    "<div style='background-image: url(\"../share/images/header.svg\") ; padding: 0px ; background-size: cover ; border-radius: 5px ; height: 250px'>\n",
    "    <div style=\"float: right ; margin: 50px ; padding: 20px ; background: rgba(255 , 255 , 255 , 0.7) ; width: 50% ; height: 150px\">\n",
    "        <div style=\"position: relative ; top: 50% ; transform: translatey(-50%)\">\n",
    "            <div style=\"font-size: xx-large ; font-weight: 900 ; color: rgba(0 , 0 , 0 , 0.8) ; line-height: 100%\">Instaseis Tutorial</div>\n",
    "            <div style=\"font-size: large ; padding-top: 20px ; color: rgba(0 , 0 , 0 , 0.5)\">Part 4: Finite Sources</div>\n",
    "        </div>\n",
    "    </div>\n",
    "</div>"
   ]
  },
  {
   "cell_type": "markdown",
   "metadata": {},
   "source": [
    "Seismo-Live: http://seismo-live.org\n",
    "\n",
    "##### Authors:\n",
    "* Martin van Driel ([@martinvandriel](https://github.com/martinvandriel))\n",
    "* Lion Krischer ([@krischer](https://github.com/krischer))\n",
    "---"
   ]
  },
  {
   "cell_type": "markdown",
   "metadata": {},
   "source": [
    "<img style=\"width:50%\" src=\"images/logo.png\">"
   ]
  },
  {
   "cell_type": "markdown",
   "metadata": {},
   "source": [
    "## Advanced Exercise 2: Finite Source Effects\n",
    "\n",
    "For earthquakes with Magnitude up to about 5 recorded at teleseismic distances, approximating the fault by a point source is a reasonable approach. However, for larger earthquakes with longer rupture duration this approximation is not valid anymore. In this exercise, you will compare the point source approximation with finite source solutions to understand its limitations.\n",
    "\n",
    "For three of the earthquakes we use in this tutorial, USGS provides finite fault solutions: \n",
    "the recent event in [Nepal](http://earthquake.usgs.gov/earthquakes/eventpage/us20002926#scientific_finitefault),\n",
    "the largest [aftershock](http://earthquake.usgs.gov/earthquakes/eventpage/us20002ejl#scientific_finitefault)\n",
    "and the one in [Chile](http://earthquake.usgs.gov/earthquakes/eventpage/usc000nzvd#scientific_finitefault). This is the fault solution and slip as a function of time for the Nepal M7.9 event:"
   ]
  },
  {
   "cell_type": "markdown",
   "metadata": {},
   "source": [
    "<p style=\"float: left; font-size: 9pt; text-align: center; width: 49%; margin-right: 1%; margin-bottom: 0.5em;\"><img src=\"images/finite_source_fault.png\" style=\"width: 100%\">Fault representation (image: USGS)</p><p style=\"float: right; font-size: 9pt; text-align: center; width: 49%; margin-right: 1%; margin-bottom: 0.5em;\"><img src=\"images/finite_source_stf.png\" style=\"width: 100%\">Source Time Function (image: USGS)</p><p style=\"clear: both;\">"
   ]
  },
  {
   "cell_type": "markdown",
   "metadata": {},
   "source": [
    "-----\n",
    "\n",
    "Basic lines to set up the notebook and some paths."
   ]
  },
  {
   "cell_type": "code",
   "execution_count": 1,
   "metadata": {},
   "outputs": [],
   "source": [
    "%matplotlib inline\n",
    "import matplotlib.pyplot as plt\n",
    "import numpy as np\n",
    "import os\n",
    "import obspy\n",
    "plt.style.use('ggplot')\n",
    "plt.rcParams['figure.figsize'] = (10, 8)"
   ]
  },
  {
   "cell_type": "markdown",
   "metadata": {},
   "source": [
    "Import Instaseis and open the database:"
   ]
  },
  {
   "cell_type": "code",
   "execution_count": 2,
   "metadata": {},
   "outputs": [],
   "source": [
    "import instaseis\n",
    "db = instaseis.open_db(\"data/database\")"
   ]
  },
  {
   "cell_type": "markdown",
   "metadata": {},
   "source": [
    "-----"
   ]
  },
  {
   "cell_type": "markdown",
   "metadata": {},
   "source": [
    "In Instaseis, a finite fault is represented as set of point sources, where each point source represents one of the fault patches with individual source time function. This functionality is provided by the `instaseis.FiniteSource` object [(see Documentation)](http://instaseis.net/source.html#instaseis.source.FiniteSource). It can be initialized in two ways: from a list of point sources, or more conveniently by reading \\*.param files provided by USGS or standard rupture format (\\*.srf) files (these can also be used in the GUI)."
   ]
  },
  {
   "cell_type": "code",
   "execution_count": 3,
   "metadata": {},
   "outputs": [
    {
     "name": "stdout",
     "output_type": "stream",
     "text": [
      "Instaseis Finite Source:\n",
      "\tMoment Magnitude     : 7.28\n",
      "\tScalar Moment        :   1.04e+20 Nm\n",
      "\t#Point Sources       : 525\n",
      "\tRupture Duration     :   35.8 s\n",
      "\tTime Shift           :    0.0 s\n",
      "\tMin Depth            : 8695.7 m\n",
      "\tMax Depth            : 20897.6 m\n",
      "\tHypocenter Depth     : 20897.6 m\n",
      "\tMin Latitude         :   27.1 deg\n",
      "\tMax Latitude         :   28.3 deg\n",
      "\tHypocenter Latitude  :   27.7 deg\n",
      "\tMin Longitude        :   85.4 deg\n",
      "\tMax Longitude        :   86.9 deg\n",
      "\tHypocenter Longitude :   86.2 deg\n",
      "\n"
     ]
    }
   ],
   "source": [
    "finite_source = instaseis.FiniteSource.from_usgs_param_file(\n",
    "    'data/events/finite_source/FINITE_SOURCE_2015_05_12__Mw_7_2_Nepal.param')\n",
    "print(finite_source)"
   ]
  },
  {
   "cell_type": "markdown",
   "metadata": {},
   "source": [
    "A point source can be computed as a sum of all point sources weighted by their moment:"
   ]
  },
  {
   "cell_type": "code",
   "execution_count": 4,
   "metadata": {},
   "outputs": [
    {
     "name": "stdout",
     "output_type": "stream",
     "text": [
      "Instaseis Source:\n",
      "\tOrigin Time      : 1970-01-01T00:00:00.000000Z\n",
      "\tLongitude        :   86.2 deg\n",
      "\tLatitude         :   27.7 deg\n",
      "\tDepth            : 1.5e+01 km km\n",
      "\tMoment Magnitude :   7.26\n",
      "\tScalar Moment    :   9.76e+19 Nm\n",
      "\tMrr              :   2.63e+19 Nm\n",
      "\tMtt              :  -2.46e+19 Nm\n",
      "\tMpp              :  -1.70e+18 Nm\n",
      "\tMrt              :   9.33e+19 Nm\n",
      "\tMrp              :  -8.13e+18 Nm\n",
      "\tMtp              :   9.86e+18 Nm\n",
      "\n"
     ]
    }
   ],
   "source": [
    "finite_source.compute_centroid()\n",
    "print(finite_source.CMT)"
   ]
  },
  {
   "cell_type": "markdown",
   "metadata": {},
   "source": [
    "The hypo- and epicenter can be found as the fault patch that ruptures first:"
   ]
  },
  {
   "cell_type": "code",
   "execution_count": 5,
   "metadata": {},
   "outputs": [
    {
     "name": "stdout",
     "output_type": "stream",
     "text": [
      "hypocenter latitude: 27.664442081754583 longitude: 86.1627 depth: 14.7966\n"
     ]
    }
   ],
   "source": [
    "finite_source.find_hypocenter()\n",
    "print('hypocenter latitude:', finite_source.hypocenter_latitude,\n",
    "      'longitude:', finite_source.hypocenter_longitude,\n",
    "      'depth:', finite_source.hypocenter_depth_in_m / 1e3)"
   ]
  },
  {
   "cell_type": "markdown",
   "metadata": {},
   "source": [
    "**Task:** Compare the seismograms for three different representations of the source: \n",
    "\n",
    "* A point source with simple gaussian source time function (using CMTSOLUTION or quakeml files),\n",
    "* the CMT solution using the more complex source time function provided by `finite_source.CMT`\n",
    "* the full finite source solution using the `FiniteSource` object and `db.get_seismograms_finite_source()`\n",
    "\n",
    "**Note:** First, you have to adapt the sampling of the source time functions in the finite source to the database, which works like this:"
   ]
  },
  {
   "cell_type": "code",
   "execution_count": 6,
   "metadata": {},
   "outputs": [],
   "source": [
    "# reloading finite source here to be sure to have a clean source time function\n",
    "finite_source = instaseis.FiniteSource.from_usgs_param_file(\n",
    "    'data/events/finite_source/FINITE_SOURCE_2015_05_12__Mw_7_2_Nepal.param')\n",
    "\n",
    "# prepare the source time functions to be at the same sampling as the database\n",
    "# first use enough samples such that the lowpassed stf will still be correctly represented\n",
    "nsamp = int(db.info.period / finite_source[0].dt) * 50\n",
    "finite_source.resample_sliprate(dt=finite_source[0].dt, nsamp=nsamp)\n",
    "# lowpass to avoid aliasing\n",
    "finite_source.lp_sliprate(freq=1.0/db.info.period)\n",
    "# finally resample to the sampling as the database\n",
    "finite_source.resample_sliprate(dt=db.info.dt, nsamp=db.info.npts)\n",
    "\n",
    "finite_source.compute_centroid()"
   ]
  },
  {
   "cell_type": "code",
   "execution_count": null,
   "metadata": {
    "tags": [
     "exercise"
    ]
   },
   "outputs": [],
   "source": []
  },
  {
   "cell_type": "markdown",
   "metadata": {
    "tags": [
     "solution"
    ]
   },
   "source": [
    "**Solution**"
   ]
  },
  {
   "cell_type": "code",
   "execution_count": 7,
   "metadata": {
    "tags": [
     "solution"
    ]
   },
   "outputs": [
    {
     "data": {
      "image/png": "[encoded data removed]",
      "text/plain": [
       "<Figure size 432x288 with 1 Axes>"
      ]
     },
     "metadata": {
      "needs_background": "light"
     },
     "output_type": "display_data"
    }
   ],
   "source": [
    "# load receivers from stations xml file\n",
    "receivers = instaseis.Receiver.parse('data/stations/all_stations.xml')\n",
    "\n",
    "simple_source = instaseis.Source.parse(\n",
    "    'data/events/quakeml/GCMT_2015_04_25__Mw_7_9.xml')\n",
    "\n",
    "# compute seismogram with CMT solution and no simple source time function (gaussian):\n",
    "tr_simple = db.get_seismograms(\n",
    "    simple_source, receivers[0], components=('Z'), dt=1.0)[0]\n",
    "\n",
    "# compute seismogram with CMT solution and source time function computed as the \n",
    "# sum of all source time functions in the finite source (reconvolve_stf=True):\n",
    "tr_cmt = db.get_seismograms(\n",
    "    finite_source.CMT, receivers[0], components=('Z'),\n",
    "    dt=1.0, reconvolve_stf=True, remove_source_shift=False)[0]\n",
    "\n",
    "# compute seismogram for finite source\n",
    "tr_finite = db.get_seismograms_finite_source(\n",
    "    finite_source, receivers[0], components=('Z'), dt=1.0)[0]\n",
    "\n",
    "plt.plot(tr_simple.times(), tr_simple.data, label='simple')\n",
    "plt.plot(tr_cmt.times(), tr_cmt.data, label='cmt')\n",
    "plt.plot(tr_finite.times(), tr_finite.data, label='finite')\n",
    " \n",
    "plt.legend()\n",
    "plt.xlim(0, tr_simple.times()[-1])\n",
    "\n",
    "plt.show()"
   ]
  }
 ],
 "metadata": {
  "kernelspec": {
   "display_name": "Python 3",
   "language": "python",
   "name": "python3"
  },
  "language_info": {
   "codemirror_mode": {
    "name": "ipython",
    "version": 3
   },
   "file_extension": ".py",
   "mimetype": "text/x-python",
   "name": "python",
   "nbconvert_exporter": "python",
   "pygments_lexer": "ipython3",
   "version": "3.7.3"
  }
 },
 "nbformat": 4,
 "nbformat_minor": 2
}
