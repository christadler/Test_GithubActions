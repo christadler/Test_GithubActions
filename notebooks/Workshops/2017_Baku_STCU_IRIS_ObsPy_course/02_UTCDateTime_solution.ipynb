{
 "cells": [
  {
   "cell_type": "markdown",
   "metadata": {},
   "source": [
    "<div style='background-image: url(\"share/baku.jpg\") ; padding: 0px ; background-size: cover ; border-radius: 15px ; height: 250px; background-position: 0% 80%'>\n",
    "    <div style=\"float: right ; margin: 50px ; padding: 20px ; background: rgba(255 , 255 , 255 , 0.9) ; width: 50% ; height: 150px\">\n",
    "        <div style=\"position: relative ; top: 50% ; transform: translatey(-50%)\">\n",
    "            <div style=\"font-size: xx-large ; font-weight: 900 ; color: rgba(0 , 0 , 0 , 0.9) ; line-height: 100%\">ObsPy Tutorial</div>\n",
    "            <div style=\"font-size: large ; padding-top: 20px ; color: rgba(0 , 0 , 0 , 0.7)\">Handling Time</div>\n",
    "        </div>\n",
    "    </div>\n",
    "</div>\n",
    "image: User:Abbaszade656 / Wikimedia Commons / <a href=\"http://creativecommons.org/licenses/by-sa/4.0/\">CC-BY-SA-4.0</a>"
   ]
  },
  {
   "cell_type": "markdown",
   "metadata": {},
   "source": [
    "## Workshop for the \"Training in Network Management Systems and Analytical Tools for Seismic\"\n",
    "### Baku, October 2018\n",
    "\n",
    "\n",
    "Seismo-Live: http://seismo-live.org\n",
    "\n",
    "##### Authors:\n",
    "* Lion Krischer ([@krischer](https://github.com/krischer))\n",
    "* Tobias Megies ([@megies](https://github.com/megies))\n",
    "\n",
    "---"
   ]
  },
  {
   "cell_type": "markdown",
   "metadata": {},
   "source": [
    "![](images/obspy_logo_full_524x179px.png)"
   ]
  },
  {
   "cell_type": "markdown",
   "metadata": {},
   "source": [
    "This is a bit dry but not very difficult and important to know. It is used **everywhere** in ObsPy!\n",
    "\n",
    "\n",
    "* All absolute time values are consistently handled with this class.\n",
    "* Based on a nanosecond precision POSIX integer timestamp for accuracy.\n",
    "* Timezone can be specified at initialization (if necessary).\n",
    "* In Coordinated Universal Time (UTC) so no need to deal with timezones, daylight savings, ...\n",
    "\n",
    "---"
   ]
  },
  {
   "cell_type": "code",
   "execution_count": 1,
   "metadata": {},
   "outputs": [],
   "source": [
    "%matplotlib inline\n",
    "import matplotlib.pyplot as plt\n",
    "plt.style.use('ggplot')\n",
    "plt.rcParams['figure.figsize'] = 12, 8"
   ]
  },
  {
   "cell_type": "markdown",
   "metadata": {},
   "source": [
    "---\n",
    "\n",
    "## Features of **`UTCDateTime`**\n",
    "\n",
    "#### Initialization"
   ]
  },
  {
   "cell_type": "code",
   "execution_count": 2,
   "metadata": {},
   "outputs": [
    {
     "name": "stdout",
     "output_type": "stream",
     "text": [
      "2014-08-24T10:20:44.000000Z\n",
      "2014-08-24T10:20:44.000000Z\n",
      "2014-08-24T10:20:44.000000Z\n",
      "2014-08-24T10:20:44.000000Z\n"
     ]
    }
   ],
   "source": [
    "from obspy import UTCDateTime\n",
    "\n",
    "print(UTCDateTime(\"2014-08-24T10:20:44.0\"))        # mostly time strings defined by ISO standard\n",
    "print(UTCDateTime(\"2014-08-24T01:20:44.0-09:00\"))  # non-UTC timezone input\n",
    "print(UTCDateTime(2014, 8, 24, 10, 20, 44))        # year, month, day, hour, min, sec, musec\n",
    "print(UTCDateTime(1408875644.0))                   # timestamp"
   ]
  },
  {
   "cell_type": "code",
   "execution_count": 3,
   "metadata": {},
   "outputs": [
    {
     "name": "stdout",
     "output_type": "stream",
     "text": [
      "2019-11-04T08:59:32.256536Z\n"
     ]
    }
   ],
   "source": [
    "# Current time can be initialized by leaving out any arguments\n",
    "print(UTCDateTime())"
   ]
  },
  {
   "cell_type": "markdown",
   "metadata": {},
   "source": [
    "#### Attribute Access"
   ]
  },
  {
   "cell_type": "code",
   "execution_count": 4,
   "metadata": {},
   "outputs": [
    {
     "name": "stdout",
     "output_type": "stream",
     "text": [
      "2014\n",
      "236\n",
      "1408875644.0\n",
      "6\n"
     ]
    }
   ],
   "source": [
    "time = UTCDateTime(\"2014-08-24T10:20:44.0\")\n",
    "print(time.year)\n",
    "print(time.julday)\n",
    "print(time.timestamp)\n",
    "print(time.weekday)\n",
    "# try time.<Tab>"
   ]
  },
  {
   "cell_type": "markdown",
   "metadata": {},
   "source": [
    "#### Handling time differences\n",
    "\n",
    "* \"**`+`**/**`-`**\" defined to add seconds to an **`UTCDateTime`** object\n",
    "* \"**`-`**\" defined to get time difference of two **`UTCDateTime`** objects"
   ]
  },
  {
   "cell_type": "code",
   "execution_count": 5,
   "metadata": {},
   "outputs": [
    {
     "name": "stdout",
     "output_type": "stream",
     "text": [
      "2014-08-24T10:20:44.000000Z\n"
     ]
    }
   ],
   "source": [
    "time = UTCDateTime(\"2014-08-24T10:20:44.0\")\n",
    "print(time)"
   ]
  },
  {
   "cell_type": "code",
   "execution_count": 6,
   "metadata": {},
   "outputs": [
    {
     "name": "stdout",
     "output_type": "stream",
     "text": [
      "2014-08-24T11:20:44.000000Z\n"
     ]
    }
   ],
   "source": [
    "# one hour later\n",
    "print(time + 3600)"
   ]
  },
  {
   "cell_type": "code",
   "execution_count": 7,
   "metadata": {},
   "outputs": [
    {
     "name": "stdout",
     "output_type": "stream",
     "text": [
      "11194756.0\n"
     ]
    }
   ],
   "source": [
    "# Time differences\n",
    "time2 = UTCDateTime(2015, 1, 1)\n",
    "print(time2 - time)"
   ]
  },
  {
   "cell_type": "markdown",
   "metadata": {},
   "source": [
    "### Exercises\n",
    "\n",
    "Calculate the number of days passed since the 2014 South Napa earthquake (the timestamp used above)."
   ]
  },
  {
   "cell_type": "code",
   "execution_count": 8,
   "metadata": {},
   "outputs": [
    {
     "name": "stdout",
     "output_type": "stream",
     "text": [
      "1897.901947792662\n"
     ]
    }
   ],
   "source": [
    "print((UTCDateTime() - UTCDateTime(\"2014-08-24T11:20:44.000000Z\")) / 86400)"
   ]
  },
  {
   "cell_type": "markdown",
   "metadata": {},
   "source": [
    "Make a list of 10 UTCDateTime objects, starting today at 10:00 with a spacing of 90 minutes."
   ]
  },
  {
   "cell_type": "code",
   "execution_count": 9,
   "metadata": {},
   "outputs": [
    {
     "data": {
      "text/plain": [
       "[2017-09-18T10:00:00.000000Z,\n",
       " 2017-09-18T11:30:00.000000Z,\n",
       " 2017-09-18T13:00:00.000000Z,\n",
       " 2017-09-18T14:30:00.000000Z,\n",
       " 2017-09-18T16:00:00.000000Z,\n",
       " 2017-09-18T17:30:00.000000Z,\n",
       " 2017-09-18T19:00:00.000000Z,\n",
       " 2017-09-18T20:30:00.000000Z,\n",
       " 2017-09-18T22:00:00.000000Z,\n",
       " 2017-09-18T23:30:00.000000Z]"
      ]
     },
     "execution_count": 9,
     "metadata": {},
     "output_type": "execute_result"
    }
   ],
   "source": [
    "t = UTCDateTime(2017, 9, 18, 10)\n",
    "\n",
    "times = []\n",
    "for i in range(10):\n",
    "    t2 = t + i * 90 * 60\n",
    "    times.append(t2)\n",
    "\n",
    "times"
   ]
  },
  {
   "cell_type": "markdown",
   "metadata": {},
   "source": [
    "Below is a list of strings with origin times of magnitude 8+ earthquakes since 2000 (fetched from IRIS). Assemble a list of interevent times in days. Use matplotlib to display a histogram."
   ]
  },
  {
   "cell_type": "code",
   "execution_count": 10,
   "metadata": {},
   "outputs": [],
   "source": [
    "times = [\"2000-11-16T04:54:56\",\n",
    "         \"2001-06-23T20:33:09\",\n",
    "         \"2003-09-25T19:50:07\",\n",
    "         \"2004-12-23T14:59:00\",\n",
    "         \"2004-12-26T00:58:52\",\n",
    "         \"2005-03-28T16:09:35\",\n",
    "         \"2006-05-03T15:26:39\",\n",
    "         \"2006-06-01T18:57:02\",\n",
    "         \"2006-06-05T00:50:31\",\n",
    "         \"2006-11-15T11:14:14\",\n",
    "         \"2007-01-13T04:23:23\",\n",
    "         \"2007-04-01T20:39:56\",\n",
    "         \"2007-08-15T23:40:58\",\n",
    "         \"2007-09-12T11:10:26\",\n",
    "         \"2009-09-29T17:48:11\",\n",
    "         \"2010-02-27T06:34:13\",\n",
    "         \"2011-03-11T05:46:23\",\n",
    "         \"2012-04-11T08:38:37\",\n",
    "         \"2012-04-11T10:43:10\",\n",
    "         \"2013-05-24T05:44:49\",\n",
    "         \"2014-04-01T23:46:47\",\n",
    "         \"2015-09-16T22:54:32\",\n",
    "         \"2017-09-08T04:49:21\"]"
   ]
  },
  {
   "cell_type": "code",
   "execution_count": 11,
   "metadata": {},
   "outputs": [
    {
     "data": {
      "image/png": "[encoded data removed]",
      "text/plain": [
       "<Figure size 432x288 with 1 Axes>"
      ]
     },
     "metadata": {
      "needs_background": "light"
     },
     "output_type": "display_data"
    }
   ],
   "source": [
    "import matplotlib.pyplot as plt\n",
    "\n",
    "inter_event_times = []\n",
    "\n",
    "for i in range(1, len(times)):\n",
    "    dt = UTCDateTime(times[i]) - UTCDateTime(times[i-1])\n",
    "    dt = dt / (3600 * 24)\n",
    "    inter_event_times.append(dt)\n",
    "\n",
    "plt.hist(inter_event_times, bins=range(0, 1000, 100))\n",
    "plt.xlabel(\"Magnitude 8+ interevent times since 2000 [days]\")\n",
    "plt.ylabel(\"count\")\n",
    "plt.show()"
   ]
  }
 ],
 "metadata": {
  "kernelspec": {
   "display_name": "Python 3",
   "language": "python",
   "name": "python3"
  },
  "language_info": {
   "codemirror_mode": {
    "name": "ipython",
    "version": 3
   },
   "file_extension": ".py",
   "mimetype": "text/x-python",
   "name": "python",
   "nbconvert_exporter": "python",
   "pygments_lexer": "ipython3",
   "version": "3.7.3"
  }
 },
 "nbformat": 4,
 "nbformat_minor": 2
}
