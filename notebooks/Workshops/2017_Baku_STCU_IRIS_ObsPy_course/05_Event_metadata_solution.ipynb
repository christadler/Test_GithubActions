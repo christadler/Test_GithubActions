{
 "cells": [
  {
   "cell_type": "markdown",
   "metadata": {},
   "source": [
    "<div style='background-image: url(\"share/baku.jpg\") ; padding: 0px ; background-size: cover ; border-radius: 15px ; height: 250px; background-position: 0% 80%'>\n",
    "    <div style=\"float: right ; margin: 50px ; padding: 20px ; background: rgba(255 , 255 , 255 , 0.9) ; width: 50% ; height: 150px\">\n",
    "        <div style=\"position: relative ; top: 50% ; transform: translatey(-50%)\">\n",
    "            <div style=\"font-size: xx-large ; font-weight: 900 ; color: rgba(0 , 0 , 0 , 0.9) ; line-height: 100%\">ObsPy Tutorial</div>\n",
    "            <div style=\"font-size: large ; padding-top: 20px ; color: rgba(0 , 0 , 0 , 0.7)\">Handling Event Metadata</div>\n",
    "        </div>\n",
    "    </div>\n",
    "</div>\n",
    "image: User:Abbaszade656 / Wikimedia Commons / <a href=\"http://creativecommons.org/licenses/by-sa/4.0/\">CC-BY-SA-4.0</a>"
   ]
  },
  {
   "cell_type": "markdown",
   "metadata": {},
   "source": [
    "## Workshop for the \"Training in Network Management Systems and Analytical Tools for Seismic\"\n",
    "### Baku, October 2018\n",
    "\n",
    "Seismo-Live: http://seismo-live.org\n",
    "\n",
    "##### Authors:\n",
    "* Lion Krischer ([@krischer](https://github.com/krischer))\n",
    "* Tobias Megies ([@megies](https://github.com/megies))\n",
    "---"
   ]
  },
  {
   "cell_type": "markdown",
   "metadata": {},
   "source": [
    "![](images/obspy_logo_full_524x179px.png)"
   ]
  },
  {
   "cell_type": "code",
   "execution_count": 1,
   "metadata": {},
   "outputs": [],
   "source": [
    "%matplotlib inline\n",
    "import matplotlib.pyplot as plt\n",
    "plt.style.use('ggplot')\n",
    "plt.rcParams['figure.figsize'] = 12, 8"
   ]
  },
  {
   "cell_type": "markdown",
   "metadata": {},
   "source": [
    "- for event metadata, the de-facto standard is [QuakeML (an xml document structure)](https://quake.ethz.ch/quakeml/)\n",
    "- QuakeML files can be read using **`read_events()`**"
   ]
  },
  {
   "cell_type": "code",
   "execution_count": 2,
   "metadata": {},
   "outputs": [
    {
     "name": "stdout",
     "output_type": "stream",
     "text": [
      "5 Event(s) in Catalog:\n",
      "2014-08-24T12:47:12.550000Z | +38.238, -122.343 | 3.6 mw | manual\n",
      "2014-08-24T10:24:44.240000Z | +38.260, -122.337 | 3.51 ml | manual\n",
      "2014-08-24T10:21:45.440000Z | +38.235, -122.320 | 3.81 ml | manual\n",
      "2014-08-24T10:21:10.840000Z | +38.760, -122.726 | 4.38 md | manual\n",
      "2014-08-24T10:20:44.070000Z | +38.215, -122.312 | 6.02 mw | manual\n"
     ]
    }
   ],
   "source": [
    "import obspy\n",
    "\n",
    "catalog = obspy.read_events(\"./data/south_napa_with_some_aftershocks.xml\")\n",
    "print(catalog)"
   ]
  },
  {
   "cell_type": "markdown",
   "metadata": {},
   "source": [
    "- **`read_events()`** function returns a **`Catalog`** object, which is\n",
    "a collection of **`Event`** objects."
   ]
  },
  {
   "cell_type": "code",
   "execution_count": 3,
   "metadata": {},
   "outputs": [
    {
     "name": "stdout",
     "output_type": "stream",
     "text": [
      "<class 'obspy.core.event.catalog.Catalog'>\n",
      "<class 'obspy.core.event.event.Event'>\n"
     ]
    }
   ],
   "source": [
    "print(type(catalog))\n",
    "print(type(catalog[0]))"
   ]
  },
  {
   "cell_type": "code",
   "execution_count": 4,
   "metadata": {},
   "outputs": [
    {
     "name": "stdout",
     "output_type": "stream",
     "text": [
      "Event:\t2014-08-24T12:47:12.550000Z | +38.238, -122.343 | 3.6 mw | manual\n",
      "\n",
      "\t            resource_id: ResourceIdentifier(id=\"quakeml:earthquake.usgs.gov/fdsnws/event/1/query?eventid=nc72283201&format=quakeml\")\n",
      "\t             event_type: 'earthquake'\n",
      "\t          creation_info: CreationInfo(agency_id='nc', creation_time=UTCDateTime(2017, 3, 17, 23, 18, 51, 71000), version='9')\n",
      "\t    preferred_origin_id: ResourceIdentifier(id=\"quakeml:earthquake.usgs.gov/archive/product/origin/nc72283201/nc/1486208787950/product.xml\")\n",
      "\t preferred_magnitude_id: ResourceIdentifier(id=\"quakeml:earthquake.usgs.gov/archive/product/origin/nc72283201/nc/1486208787950/product.xml#magnitude\")\n",
      "\t                   ---------\n",
      "\t     event_descriptions: 1 Elements\n",
      "\t                origins: 1 Elements\n",
      "\t             magnitudes: 1 Elements\n"
     ]
    }
   ],
   "source": [
    "event = catalog[0]\n",
    "print(event)"
   ]
  },
  {
   "cell_type": "markdown",
   "metadata": {},
   "source": [
    "- Event objects are again collections of other resources.\n",
    "- the nested ObsPy Event class structure (Catalog/Event/Origin/Magnitude/FocalMechanism/...) is closely modelled after QuakeML\n",
    "<img src=\"images/Event.svg\" width=90%>"
   ]
  },
  {
   "cell_type": "code",
   "execution_count": 5,
   "metadata": {},
   "outputs": [
    {
     "name": "stdout",
     "output_type": "stream",
     "text": [
      "<class 'list'>\n",
      "<class 'obspy.core.event.origin.Origin'>\n",
      "Origin\n",
      "\t        resource_id: ResourceIdentifier(id=\"quakeml:earthquake.usgs.gov/archive/product/origin/nc72283201/nc/1486208787950/product.xml\")\n",
      "\t               time: UTCDateTime(2014, 8, 24, 12, 47, 12, 550000)\n",
      "\t          longitude: -122.3425\n",
      "\t           latitude: 38.2383333\n",
      "\t              depth: 8439.0 [uncertainty=190.0]\n",
      "\t            quality: OriginQuality(used_phase_count=302, used_station_count=279, standard_error=0.18, azimuthal_gap=21.0, minimum_distance=0.02432)\n",
      "\t origin_uncertainty: OriginUncertainty(horizontal_uncertainty=90.0, preferred_description='horizontal uncertainty')\n",
      "\t    evaluation_mode: 'manual'\n",
      "\t      creation_info: CreationInfo(agency_id='NC', creation_time=UTCDateTime(2017, 2, 4, 11, 46, 27, 950000), version='9')\n"
     ]
    }
   ],
   "source": [
    "print(type(event.origins))\n",
    "print(type(event.origins[0]))\n",
    "print(event.origins[0])"
   ]
  },
  {
   "cell_type": "code",
   "execution_count": 6,
   "metadata": {},
   "outputs": [
    {
     "name": "stdout",
     "output_type": "stream",
     "text": [
      "<class 'list'>\n",
      "<class 'obspy.core.event.magnitude.Magnitude'>\n",
      "Magnitude\n",
      "\t     resource_id: ResourceIdentifier(id=\"quakeml:earthquake.usgs.gov/archive/product/origin/nc72283201/nc/1486208787950/product.xml#magnitude\")\n",
      "\t             mag: 3.6\n",
      "\t  magnitude_type: 'mw'\n",
      "\t       origin_id: ResourceIdentifier(id=\"quakeml:earthquake.usgs.gov/archive/product/origin/nc72283201/nc/1486208787950/product.xml\")\n",
      "\t   station_count: 3\n",
      "\t evaluation_mode: 'manual'\n",
      "\t   creation_info: CreationInfo(agency_id='NC', creation_time=UTCDateTime(2017, 2, 4, 11, 46, 27, 950000))\n"
     ]
    }
   ],
   "source": [
    "print(type(event.magnitudes))\n",
    "print(type(event.magnitudes[0]))\n",
    "print(event.magnitudes[0])"
   ]
  },
  {
   "cell_type": "code",
   "execution_count": 7,
   "metadata": {},
   "outputs": [],
   "source": [
    "# try event.<Tab> to get an idea what \"children\" elements event has"
   ]
  },
  {
   "cell_type": "markdown",
   "metadata": {},
   "source": [
    "- The Catalog object contains some convenience methods to make\n",
    "working with events easier.\n",
    "- for example, the included events can be filtered with various keys."
   ]
  },
  {
   "cell_type": "code",
   "execution_count": 8,
   "metadata": {},
   "outputs": [
    {
     "name": "stdout",
     "output_type": "stream",
     "text": [
      "2 Event(s) in Catalog:\n",
      "2014-08-24T10:21:10.840000Z | +38.760, -122.726 | 4.38 md | manual\n",
      "2014-08-24T10:20:44.070000Z | +38.215, -122.312 | 6.02 mw | manual\n"
     ]
    }
   ],
   "source": [
    "largest_magnitude_events = catalog.filter(\"magnitude >= 4.0\")\n",
    "print(largest_magnitude_events)"
   ]
  },
  {
   "cell_type": "markdown",
   "metadata": {},
   "source": [
    "- There is a basic preview plot using the matplotlib basemap module."
   ]
  },
  {
   "cell_type": "code",
   "execution_count": 9,
   "metadata": {},
   "outputs": [
    {
     "name": "stderr",
     "output_type": "stream",
     "text": [
      "/Users/lion/miniconda3/envs/seismo_live/lib/python3.7/site-packages/obspy/imaging/maps.py:45: UserWarning: basemap/pyproj with proj4 version >= 5 has a bug that results in inverted map axes. Your maps may be wrong. Please use another version of proj4, or use cartopy.\n",
      "  warnings.warn(msg)\n"
     ]
    },
    {
     "data": {
      "image/png": "[encoded data removed]",
      "text/plain": [
       "<Figure size 432x288 with 2 Axes>"
      ]
     },
     "metadata": {
      "needs_background": "light"
     },
     "output_type": "display_data"
    }
   ],
   "source": [
    "catalog.plot(projection=\"local\", resolution=\"i\", label=\"magnitude\");"
   ]
  },
  {
   "cell_type": "markdown",
   "metadata": {},
   "source": [
    "- a (modified) Catalog can be output to file in a number of different formats."
   ]
  },
  {
   "cell_type": "code",
   "execution_count": 10,
   "metadata": {},
   "outputs": [
    {
     "name": "stdout",
     "output_type": "stream",
     "text": [
      "-rw-r--r--  1 lion  wheel  5821 Nov  4 09:56 /tmp/large_events.xml\r\n"
     ]
    }
   ],
   "source": [
    "largest_magnitude_events.write(\"/tmp/large_events.xml\", format=\"QUAKEML\")\n",
    "!ls -l /tmp/large_events.xml"
   ]
  },
  {
   "cell_type": "markdown",
   "metadata": {},
   "source": [
    "- the event type classes can be used to build up Events/Catalogs/Picks/.. from scratch in custom processing work flows and to share them with other researchers in the de facto standard format QuakeML"
   ]
  },
  {
   "cell_type": "code",
   "execution_count": 11,
   "metadata": {},
   "outputs": [
    {
     "name": "stdout",
     "output_type": "stream",
     "text": [
      "1 Event(s) in Catalog:\n",
      "2014-02-23T18:00:00.000000Z | +47.600,  +12.000 | 7.2 Mw | manual\n",
      "<?xml version='1.0' encoding='utf-8'?>\r\n",
      "<q:quakeml xmlns=\"http://quakeml.org/xmlns/bed/1.2\" xmlns:q=\"http://quakeml.org/xmlns/quakeml/1.2\">\r\n",
      "  <eventParameters publicID=\"smi:local/cdd8f4ac-1328-4ca9-995a-229660e44a8f\">\r\n",
      "    <description>Just a fictitious toy example catalog built from scratch</description>\r\n",
      "    <event publicID=\"smi:local/7408b339-0997-4935-b828-d8c6cbc85d83\">\r\n",
      "      <type>not existing</type>\r\n",
      "      <origin publicID=\"smi:local/484089f8-6ebf-405d-8c8a-29cd6b336feb\">\r\n",
      "        <time>\r\n",
      "          <value>2014-02-23T18:00:00.000000Z</value>\r\n",
      "        </time>\r\n",
      "        <latitude>\r\n",
      "          <value>47.6</value>\r\n",
      "        </latitude>\r\n",
      "        <longitude>\r\n",
      "          <value>12.0</value>\r\n",
      "        </longitude>\r\n",
      "        <depth>\r\n",
      "          <value>10000.0</value>\r\n",
      "        </depth>\r\n",
      "        <depthType>operator assigned</depthType>\r\n",
      "        <region>AUSTRIA</region>\r\n",
      "        <evaluationMode>manual</evaluationMode>\r\n",
      "        <evaluationStatus>preliminary</evaluationStatus>\r\n",
      "      </origin>\r\n",
      "      <magnitude publicID=\"smi:local/2e83f9c4-271b-480d-ac17-a69114c1f42c\">\r\n",
      "        <mag>\r\n",
      "          <value>7.2</value>\r\n",
      "        </mag>\r\n",
      "        <type>Mw</type>\r\n",
      "        <originID>smi:local/484089f8-6ebf-405d-8c8a-29cd6b336feb</originID>\r\n",
      "      </magnitude>\r\n",
      "      <magnitude publicID=\"smi:local/b93d8723-5992-4bf5-9141-b89b1c3ef28e\">\r\n",
      "        <mag>\r\n",
      "          <value>7.4</value>\r\n",
      "        </mag>\r\n",
      "        <type>Ms</type>\r\n",
      "        <originID>smi:local/484089f8-6ebf-405d-8c8a-29cd6b336feb</originID>\r\n",
      "      </magnitude>\r\n",
      "    </event>\r\n",
      "  </eventParameters>\r\n",
      "</q:quakeml>\r\n"
     ]
    }
   ],
   "source": [
    "from obspy import UTCDateTime\n",
    "from obspy.core.event import Catalog, Event, Origin, Magnitude\n",
    "from obspy.geodetics import FlinnEngdahl\n",
    "\n",
    "cat = Catalog()\n",
    "cat.description = \"Just a fictitious toy example catalog built from scratch\"\n",
    "\n",
    "e = Event()\n",
    "e.event_type = \"not existing\"\n",
    "\n",
    "o = Origin()\n",
    "o.time = UTCDateTime(2014, 2, 23, 18, 0, 0)\n",
    "o.latitude = 47.6\n",
    "o.longitude = 12.0\n",
    "o.depth = 10000\n",
    "o.depth_type = \"operator assigned\"\n",
    "o.evaluation_mode = \"manual\"\n",
    "o.evaluation_status = \"preliminary\"\n",
    "o.region = FlinnEngdahl().get_region(o.longitude, o.latitude)\n",
    "\n",
    "m = Magnitude()\n",
    "m.mag = 7.2\n",
    "m.magnitude_type = \"Mw\"\n",
    "\n",
    "m2 = Magnitude()\n",
    "m2.mag = 7.4\n",
    "m2.magnitude_type = \"Ms\"\n",
    "\n",
    "# also included could be: custom picks, amplitude measurements, station magnitudes,\n",
    "# focal mechanisms, moment tensors, ...\n",
    "\n",
    "# make associations, put everything together\n",
    "cat.append(e)\n",
    "e.origins = [o]\n",
    "e.magnitudes = [m, m2]\n",
    "m.origin_id = o.resource_id\n",
    "m2.origin_id = o.resource_id\n",
    "\n",
    "print(cat)\n",
    "cat.write(\"/tmp/my_custom_events.xml\", format=\"QUAKEML\")\n",
    "!cat /tmp/my_custom_events.xml"
   ]
  }
 ],
 "metadata": {
  "kernelspec": {
   "display_name": "Python 3",
   "language": "python",
   "name": "python3"
  },
  "language_info": {
   "codemirror_mode": {
    "name": "ipython",
    "version": 3
   },
   "file_extension": ".py",
   "mimetype": "text/x-python",
   "name": "python",
   "nbconvert_exporter": "python",
   "pygments_lexer": "ipython3",
   "version": "3.7.3"
  }
 },
 "nbformat": 4,
 "nbformat_minor": 2
}
